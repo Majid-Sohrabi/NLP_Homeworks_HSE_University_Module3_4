{
  "nbformat": 4,
  "nbformat_minor": 0,
  "metadata": {
    "colab": {
      "name": "NLP_HW1_Majid_Sohrabi.ipynb",
      "provenance": [],
      "collapsed_sections": []
    },
    "kernelspec": {
      "display_name": "Python 3",
      "language": "python",
      "name": "python3"
    },
    "language_info": {
      "codemirror_mode": {
        "name": "ipython",
        "version": 3
      },
      "file_extension": ".py",
      "mimetype": "text/x-python",
      "name": "python",
      "nbconvert_exporter": "python",
      "pygments_lexer": "ipython3",
      "version": "3.8.3"
    }
  },
  "cells": [
    {
      "cell_type": "markdown",
      "metadata": {
        "id": "zTmlSSxmq98f"
      },
      "source": [
        "# Homework 1 — Natural Language Processing\n",
        "\n",
        "## Majid Sohrabi\n",
        "\n"
      ]
    },
    {
      "cell_type": "code",
      "metadata": {
        "id": "kZtkr8rcq98i"
      },
      "source": [
        "import nltk\n",
        "import random"
      ],
      "execution_count": null,
      "outputs": []
    },
    {
      "cell_type": "code",
      "metadata": {
        "id": "H3tcE8Eck-um"
      },
      "source": [
        "nltk.download()"
      ],
      "execution_count": null,
      "outputs": []
    },
    {
      "cell_type": "markdown",
      "metadata": {
        "id": "glHSeqIRpm5r"
      },
      "source": [
        "## Task 1.\n",
        "* Write a function which picks rhymes for a word using CMU Pronouncing    Dictionary (nltk.corpus.cmudict). Two words usually rhyme if their pronunciation from the stressed syllable till the end of the word is the same."
      ]
    },
    {
      "cell_type": "code",
      "metadata": {
        "id": "K4C5jkmHpG9K"
      },
      "source": [
        "all_dataset = nltk.corpus.cmudict.entries()\n",
        "target_dataset = [entry for entry in all_dataset if len(entry[0]) > 2 and entry[0].isalpha()]\n",
        "\n",
        "# Main Function for adding rhymes of a word into a list\n",
        "def rhymes_for_word(input_w):\n",
        "    all_rhymes = []\n",
        "    input_pron = [pron for word, pron in target_dataset if word == input_w]\n",
        "\n",
        "    for i_p in input_pron:\n",
        "        \n",
        "        index_stress = stress_index_finder(i_p)\n",
        "        \n",
        "        for word, pron in target_dataset:\n",
        "            if  input_w != word:\n",
        "              ind_ex = stress_index_finder(pron)\n",
        "            #if len(pron[index_stress:]) != len(i_p[index_stress:]):\n",
        "            #    continue\n",
        "            #if stress_index_finder(pron) == index_stress:\n",
        "              if pron[ind_ex:] == i_p[index_stress:]:\n",
        "                  all_rhymes.append(word)\n",
        "                    \n",
        "    if len(all_rhymes) == 0:\n",
        "        return \"No rhyme founded!\"   \n",
        "    return all_rhymes\n",
        "\n",
        "# Function for finding if the word is stressed or not\n",
        "def if_stressed_word(inp):\n",
        "    if '1' in list(inp) or '2' in list(inp):\n",
        "        return True\n",
        "    return False\n",
        "\n",
        "# Function for finding the index of stress\n",
        "def stress_index_finder(inp):\n",
        "    for i in range(len(inp)):\n",
        "        if if_stressed_word(inp[i]):\n",
        "            return i"
      ],
      "execution_count": null,
      "outputs": []
    },
    {
      "cell_type": "markdown",
      "metadata": {
        "id": "srFt3SpeqI6Q"
      },
      "source": [
        "### Test our program\n",
        "* You can call the finction rhymes_for_word(input) with an input argument such a word."
      ]
    },
    {
      "cell_type": "code",
      "metadata": {
        "colab": {
          "base_uri": "https://localhost:8080/"
        },
        "id": "F3I_uZMkqbpa",
        "outputId": "20b2bb23-3761-404b-c16d-72dfd8de066f"
      },
      "source": [
        "rhymes_for_word('yzaguirre')"
      ],
      "execution_count": null,
      "outputs": [
        {
          "output_type": "execute_result",
          "data": {
            "text/plain": [
              "['acquire',\n",
              " 'attire',\n",
              " 'ayer',\n",
              " 'beier',\n",
              " 'bleier',\n",
              " 'breier',\n",
              " 'briar',\n",
              " 'brier',\n",
              " 'bryer',\n",
              " 'buyer',\n",
              " 'byer',\n",
              " 'choir',\n",
              " 'conspire',\n",
              " 'crier',\n",
              " 'cryer',\n",
              " 'desire',\n",
              " 'dire',\n",
              " 'dreier',\n",
              " 'drier',\n",
              " 'dryer',\n",
              " 'dwyer',\n",
              " 'dyar',\n",
              " 'dyer',\n",
              " 'enquire',\n",
              " 'entire',\n",
              " 'eyer',\n",
              " 'fire',\n",
              " 'flier',\n",
              " 'flyer',\n",
              " 'friar',\n",
              " 'frier',\n",
              " 'fryar',\n",
              " 'fryer',\n",
              " 'geier',\n",
              " 'grier',\n",
              " 'guier',\n",
              " 'guyer',\n",
              " 'heier',\n",
              " 'hier',\n",
              " 'higher',\n",
              " 'hire',\n",
              " 'hyer',\n",
              " 'iyer',\n",
              " 'kleier',\n",
              " 'klier',\n",
              " 'krier',\n",
              " 'kyer',\n",
              " 'leier',\n",
              " 'liar',\n",
              " 'mcbryar',\n",
              " 'mcguyer',\n",
              " 'mctier',\n",
              " 'meier',\n",
              " 'meyer',\n",
              " 'mier',\n",
              " 'mire',\n",
              " 'misfire',\n",
              " 'myer',\n",
              " 'neier',\n",
              " 'odwyer',\n",
              " 'plier',\n",
              " 'prier',\n",
              " 'prior',\n",
              " 'pryer',\n",
              " 'pryor',\n",
              " 'pyre',\n",
              " 'require',\n",
              " 'rewire',\n",
              " 'ryer',\n",
              " 'scheier',\n",
              " 'schier',\n",
              " 'schneier',\n",
              " 'schnier',\n",
              " 'schreier',\n",
              " 'schrier',\n",
              " 'schryer',\n",
              " 'schwier',\n",
              " 'seier',\n",
              " 'shier',\n",
              " 'sire',\n",
              " 'speier',\n",
              " 'spier',\n",
              " 'squier',\n",
              " 'steier',\n",
              " 'stier',\n",
              " 'styer',\n",
              " 'supplier',\n",
              " 'swier',\n",
              " 'tire',\n",
              " 'transpire',\n",
              " 'trier',\n",
              " 'tyer',\n",
              " 'viar',\n",
              " 'wire',\n",
              " 'wyer']"
            ]
          },
          "metadata": {
            "tags": []
          },
          "execution_count": 12
        }
      ]
    },
    {
      "cell_type": "markdown",
      "metadata": {
        "id": "IpTJY1qWq98n"
      },
      "source": [
        "## Task 2.\n",
        "* Improve our text generator using trigrams (nltk.trigram) instead of bigrams. The idea is to select the next word based on two previous words, not just one. It is acceptable if you have to start the generation from two initial words instead of one. Apply the generator to texts from different corpora.\n",
        "\n",
        "### Hint for Testing Program:\n",
        "* Just run the following cell to execute the procedure."
      ]
    },
    {
      "cell_type": "code",
      "metadata": {
        "id": "QUkhrZWXtAJ6",
        "scrolled": true
      },
      "source": [
        "trigrams = list(nltk.trigrams(nltk.corpus.genesis.words('english-kjv.txt')))\n",
        "cfd = nltk.ConditionalFreqDist(((w1, w2), w3) for w1, w2, w3 in trigrams)\n",
        "\n",
        "def trigram_generator(cfdist, word1, word2, num = 50):\n",
        "    word_list = [word1, word2]\n",
        "    print(word_list[0], end = ' ')\n",
        "    for i in range(num):\n",
        "        w1 = word_list[i]\n",
        "        w2 = word_list[i + 1]\n",
        "        print(word_list[-1], end = ' ')\n",
        "        lucky_word = [w for w, f in cfdist[w1, w2].most_common()]\n",
        "        frequency = [f for w, f in cfdist[w1, w2].most_common()]\n",
        "        word = random.choices(lucky_word, weights = frequency)[0]\n",
        "        word_list.append(word)"
      ],
      "execution_count": null,
      "outputs": []
    },
    {
      "cell_type": "markdown",
      "metadata": {
        "id": "es8WRD1Vmfxw"
      },
      "source": [
        "### Test our program\n",
        "* You can call the finction trigram_generator(inputs) with corresponding input arguments."
      ]
    },
    {
      "cell_type": "code",
      "metadata": {
        "colab": {
          "base_uri": "https://localhost:8080/"
        },
        "id": "F0Xp78yHmbsp",
        "outputId": "6cde0a61-3af2-4506-d2da-ab214934bebd"
      },
      "source": [
        "cfd['God', 'created']\n",
        "trigram_generator(cfd, 'God','created')"
      ],
      "execution_count": null,
      "outputs": [
        {
          "output_type": "stream",
          "text": [
            "God created man , the father of the famine was in the days of thy life ; It shall come to pass , that I have lift up her eyes upon him , Thou shalt be over my cattle , and said , I have blessed him , Bethel , he "
          ],
          "name": "stdout"
        }
      ]
    },
    {
      "cell_type": "markdown",
      "metadata": {
        "id": "M28dKcLitDac"
      },
      "source": [
        "## Task 3.\n",
        "* Write a code for Hangman game (https://en.wikipedia.org/wiki/Hangman_(game)). The code should select a random word from a dictionary (e. g. nltk.corpus.words) and show it to the user, replacing letters with dots. The user has to guess the word, naming one letter per move. If the named letter is there within the word, then all its occurrences are shown, otherwise the user loses an attempt. The user wins if (s)he opens all the letters before all attempts are spent, otherwise (s)he fails. You do not have to draw the hangman, just count the attempts left.\n",
        "\n",
        "### Hint for Testing Program:\n",
        "* Just run the following cells to execute the procedure."
      ]
    },
    {
      "cell_type": "code",
      "metadata": {
        "id": "E1mndrQ6tNVJ",
        "colab": {
          "base_uri": "https://localhost:8080/"
        },
        "outputId": "6802d950-d40f-48b7-d890-519a1ce1d815"
      },
      "source": [
        "def get_word():\n",
        "    word = random.choice(nltk.corpus.words.words())\n",
        "    return word.upper()\n",
        "\n",
        "def play(word):\n",
        "    word_completion = \"_\" * len(word)\n",
        "    guessed = False\n",
        "    guessed_letters = []\n",
        "    guessed_words = []\n",
        "    tries = len(word)\n",
        "    print('*' * 100)\n",
        "    print('\\n')\n",
        "    print(\"Let's play Hangman!\")\n",
        "    print(f'\\nLength of the word: ' + str(len(word)))\n",
        "    print(f'Possible chance: ' + str(tries))\n",
        "    print(f'Word: ' + word_completion)\n",
        "    print(\"\\n\")\n",
        "    while not guessed and tries > 0:\n",
        "        print('-' * 50)\n",
        "        guess = input(\"Please guess a letter or word: \").upper()\n",
        "        if len(guess) == 1 and guess.isalpha():\n",
        "            if guess in guessed_letters:\n",
        "                print(\"You already guessed the letter\", guess)\n",
        "            elif guess not in word:\n",
        "                print(guess, \"is not in the word.\")\n",
        "                tries -= 1\n",
        "                guessed_letters.append(guess)\n",
        "            else:\n",
        "                print(\"Good job,\", guess, \"is in the word!\")\n",
        "                guessed_letters.append(guess)\n",
        "                word_as_list = list(word_completion)\n",
        "                indices = [i for i, letter in enumerate(word) if letter == guess]\n",
        "                for index in indices:\n",
        "                    word_as_list[index] = guess\n",
        "                word_completion = \"\".join(word_as_list)\n",
        "                if \"_\" not in word_completion:\n",
        "                    guessed = True\n",
        "        elif len(guess) == len(word) and guess.isalpha():\n",
        "            if guess in guessed_words:\n",
        "                print(\"You already guessed the word\", guess)\n",
        "            elif guess != word:\n",
        "                print(guess, \"is not the word.\")\n",
        "                tries -= 1\n",
        "                guessed_words.append(guess)\n",
        "            else:\n",
        "                guessed = True\n",
        "                word_completion = word\n",
        "        else:\n",
        "            print(\"Not a valid guess.\")\n",
        "        print(\"\\n\")\n",
        "        print(f'Remaining chance: ' + str(tries))\n",
        "        print(word_completion)\n",
        "        print(\"\\n\")\n",
        "    if guessed:\n",
        "        print(\"Congrats, you guessed the word! You win!\")\n",
        "    else:\n",
        "        print(\"Sorry, you ran out of tries. The word was \" + word + \". Maybe next time!\")\n",
        "\n",
        "def main():\n",
        "    word = get_word()\n",
        "    play(word)\n",
        "    while input(\"Play Again? (Y/N) \").upper() == \"Y\":\n",
        "        word = get_word()\n",
        "        play(word)\n",
        "\n",
        "if __name__ == \"__main__\":\n",
        "    main()"
      ],
      "execution_count": null,
      "outputs": [
        {
          "output_type": "stream",
          "text": [
            "****************************************************************************************************\n",
            "\n",
            "\n",
            "Let's play Hangman!\n",
            "\n",
            "Length of the word: 6\n",
            "Possible chance: 6\n",
            "Word: ______\n",
            "\n",
            "\n",
            "--------------------------------------------------\n",
            "Please guess a letter or word: q\n",
            "Q is not in the word.\n",
            "\n",
            "\n",
            "Remaining chance: 5\n",
            "______\n",
            "\n",
            "\n",
            "--------------------------------------------------\n",
            "Please guess a letter or word: w\n",
            "W is not in the word.\n",
            "\n",
            "\n",
            "Remaining chance: 4\n",
            "______\n",
            "\n",
            "\n",
            "--------------------------------------------------\n",
            "Please guess a letter or word: e\n",
            "Good job, E is in the word!\n",
            "\n",
            "\n",
            "Remaining chance: 4\n",
            "_____E\n",
            "\n",
            "\n",
            "--------------------------------------------------\n",
            "Please guess a letter or word: r\n",
            "R is not in the word.\n",
            "\n",
            "\n",
            "Remaining chance: 3\n",
            "_____E\n",
            "\n",
            "\n",
            "--------------------------------------------------\n",
            "Please guess a letter or word: t\n",
            "T is not in the word.\n",
            "\n",
            "\n",
            "Remaining chance: 2\n",
            "_____E\n",
            "\n",
            "\n",
            "--------------------------------------------------\n",
            "Please guess a letter or word: y\n",
            "Y is not in the word.\n",
            "\n",
            "\n",
            "Remaining chance: 1\n",
            "_____E\n",
            "\n",
            "\n",
            "--------------------------------------------------\n",
            "Please guess a letter or word: u\n",
            "Good job, U is in the word!\n",
            "\n",
            "\n",
            "Remaining chance: 1\n",
            "___U_E\n",
            "\n",
            "\n",
            "--------------------------------------------------\n",
            "Please guess a letter or word: i\n",
            "Good job, I is in the word!\n",
            "\n",
            "\n",
            "Remaining chance: 1\n",
            "_I_U_E\n",
            "\n",
            "\n",
            "--------------------------------------------------\n",
            "Please guess a letter or word: o\n",
            "O is not in the word.\n",
            "\n",
            "\n",
            "Remaining chance: 0\n",
            "_I_U_E\n",
            "\n",
            "\n",
            "Sorry, you ran out of tries. The word was MISUSE. Maybe next time!\n",
            "Play Again? (Y/N) n\n"
          ],
          "name": "stdout"
        }
      ]
    },
    {
      "cell_type": "code",
      "metadata": {
        "id": "hwXmPzFTm-ov"
      },
      "source": [
        ""
      ],
      "execution_count": null,
      "outputs": []
    }
  ]
}